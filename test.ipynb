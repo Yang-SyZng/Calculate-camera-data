{
 "cells": [
  {
   "cell_type": "code",
   "id": "initial_id",
   "metadata": {
    "collapsed": true,
    "ExecuteTime": {
     "end_time": "2025-02-25T13:57:39.876132Z",
     "start_time": "2025-02-25T13:57:39.861568Z"
    }
   },
   "source": [
    "import matrix as m\n",
    "import os"
   ],
   "outputs": [],
   "execution_count": 23
  },
  {
   "metadata": {
    "ExecuteTime": {
     "end_time": "2025-02-25T13:57:40.185642Z",
     "start_time": "2025-02-25T13:57:40.171123Z"
    }
   },
   "cell_type": "code",
   "source": [
    "undis_path = './undis'\n",
    "cc = './CC/Block_1-AT-export.xml'"
   ],
   "id": "4713555a58b2dfc",
   "outputs": [],
   "execution_count": 24
  },
  {
   "metadata": {
    "ExecuteTime": {
     "end_time": "2025-02-25T13:57:40.672070Z",
     "start_time": "2025-02-25T13:57:40.641856Z"
    }
   },
   "cell_type": "code",
   "source": [
    "mat = m.matrix(cc)\n",
    "mat.generate_depth()"
   ],
   "id": "cf2638fa849e58e1",
   "outputs": [
    {
     "ename": "AttributeError",
     "evalue": "'matrix' object has no attribute 'generate_depth'",
     "output_type": "error",
     "traceback": [
      "\u001B[1;31m---------------------------------------------------------------------------\u001B[0m",
      "\u001B[1;31mAttributeError\u001B[0m                            Traceback (most recent call last)",
      "Cell \u001B[1;32mIn[25], line 2\u001B[0m\n\u001B[0;32m      1\u001B[0m mat \u001B[38;5;241m=\u001B[39m m\u001B[38;5;241m.\u001B[39mmatrix(cc)\n\u001B[1;32m----> 2\u001B[0m \u001B[43mmat\u001B[49m\u001B[38;5;241;43m.\u001B[39;49m\u001B[43mgenerate_depth\u001B[49m()\n",
      "\u001B[1;31mAttributeError\u001B[0m: 'matrix' object has no attribute 'generate_depth'"
     ]
    }
   ],
   "execution_count": 25
  },
  {
   "metadata": {},
   "cell_type": "code",
   "source": "",
   "id": "27eb03a2df1782f7",
   "outputs": [],
   "execution_count": null
  }
 ],
 "metadata": {
  "kernelspec": {
   "display_name": "Python 3",
   "language": "python",
   "name": "python3"
  },
  "language_info": {
   "codemirror_mode": {
    "name": "ipython",
    "version": 2
   },
   "file_extension": ".py",
   "mimetype": "text/x-python",
   "name": "python",
   "nbconvert_exporter": "python",
   "pygments_lexer": "ipython2",
   "version": "2.7.6"
  }
 },
 "nbformat": 4,
 "nbformat_minor": 5
}
