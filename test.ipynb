{
 "cells": [
  {
   "cell_type": "code",
   "id": "initial_id",
   "metadata": {
    "collapsed": true,
    "ExecuteTime": {
     "end_time": "2025-02-26T01:56:23.356610Z",
     "start_time": "2025-02-26T01:56:23.284964Z"
    }
   },
   "source": [
    "import matrix as m\n",
    "import os"
   ],
   "outputs": [],
   "execution_count": 1
  },
  {
   "metadata": {
    "ExecuteTime": {
     "end_time": "2025-02-26T01:56:23.371791Z",
     "start_time": "2025-02-26T01:56:23.359595Z"
    }
   },
   "cell_type": "code",
   "source": [
    "undis_path = './undis'\n",
    "cc = './CC/Block_1-AT-export.xml'"
   ],
   "id": "4713555a58b2dfc",
   "outputs": [],
   "execution_count": 2
  },
  {
   "metadata": {
    "ExecuteTime": {
     "end_time": "2025-02-26T01:56:23.543964Z",
     "start_time": "2025-02-26T01:56:23.528979Z"
    }
   },
   "cell_type": "code",
   "source": [
    "mat = m.matrix(cc)\n",
    "mat.generate_depth()\n"
   ],
   "id": "cf2638fa849e58e1",
   "outputs": [
    {
     "name": "stdout",
     "output_type": "stream",
     "text": [
      "78\n"
     ]
    }
   ],
   "execution_count": 3
  },
  {
   "metadata": {
    "ExecuteTime": {
     "end_time": "2025-02-26T01:56:23.620818Z",
     "start_time": "2025-02-26T01:56:23.615835Z"
    }
   },
   "cell_type": "code",
   "source": "",
   "id": "27eb03a2df1782f7",
   "outputs": [],
   "execution_count": null
  },
  {
   "metadata": {
    "ExecuteTime": {
     "end_time": "2025-02-26T01:56:23.651742Z",
     "start_time": "2025-02-26T01:56:23.637217Z"
    }
   },
   "cell_type": "code",
   "source": "",
   "id": "a0d2bd780e789d6d",
   "outputs": [],
   "execution_count": null
  },
  {
   "metadata": {
    "ExecuteTime": {
     "end_time": "2025-02-26T01:56:23.682793Z",
     "start_time": "2025-02-26T01:56:23.668604Z"
    }
   },
   "cell_type": "code",
   "source": "",
   "id": "20aaae597cc0ac51",
   "outputs": [],
   "execution_count": null
  },
  {
   "metadata": {
    "ExecuteTime": {
     "end_time": "2025-02-26T01:56:23.715034Z",
     "start_time": "2025-02-26T01:56:23.699866Z"
    }
   },
   "cell_type": "code",
   "source": "",
   "id": "65922abe00c117e2",
   "outputs": [],
   "execution_count": null
  }
 ],
 "metadata": {
  "kernelspec": {
   "display_name": "Python 3",
   "language": "python",
   "name": "python3"
  },
  "language_info": {
   "codemirror_mode": {
    "name": "ipython",
    "version": 2
   },
   "file_extension": ".py",
   "mimetype": "text/x-python",
   "name": "python",
   "nbconvert_exporter": "python",
   "pygments_lexer": "ipython2",
   "version": "2.7.6"
  }
 },
 "nbformat": 4,
 "nbformat_minor": 5
}
